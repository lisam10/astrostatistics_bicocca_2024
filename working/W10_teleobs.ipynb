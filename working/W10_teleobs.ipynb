{
 "cells": [
  {
   "cell_type": "markdown",
   "metadata": {},
   "source": [
    "## Telescope observation based on weather\n",
    "\n",
    "We know the probability of a cloudy day given a sunny day before and vice versa. Lets buils a Markov chain of the weather!\n",
    "\n",
    "\n",
    "$$p({\\rm clear \\; tomorrow} \\, |\\,  {\\rm cloudy \\; today}) = 0.5,$$\n",
    "\n",
    "which means that\n",
    "\n",
    "$$p({\\rm cloudy \\; tomorrow} \\, |\\, {\\rm cloudy \\; today}) = 0.5.$$\n",
    "\n",
    "We also have\n",
    "\n",
    "$$p({\\rm cloudy \\; tomorrow} \\, |\\, {\\rm clear \\; today}) = 0.1,$$\n",
    "\n",
    "which means that\n",
    "\n",
    "$$p({\\rm clear \\; tomorrow} \\, |\\, {\\rm clear \\; today}) = 0.9.$$\n",
    "\n",
    "we consider sunny = 1, cloudy = 0."
   ]
  },
  {
   "cell_type": "code",
   "execution_count": 2,
   "metadata": {},
   "outputs": [],
   "source": [
    "import numpy as np\n",
    "import matplotlib.pyplot as plt"
   ]
  },
  {
   "cell_type": "code",
   "execution_count": 8,
   "metadata": {},
   "outputs": [],
   "source": [
    "n_days = 10 ** 4\n",
    "day_0 = 0"
   ]
  },
  {
   "cell_type": "code",
   "execution_count": 17,
   "metadata": {
    "scrolled": true
   },
   "outputs": [
    {
     "data": {
      "text/plain": [
       "(0.0, 1.0)"
      ]
     },
     "execution_count": 17,
     "metadata": {},
     "output_type": "execute_result"
    },
    {
     "data": {
      "image/png": "[encoded data removed]",
      "text/plain": [
       "<Figure size 432x288 with 1 Axes>"
      ]
     },
     "metadata": {
      "needs_background": "light"
     },
     "output_type": "display_data"
    }
   ],
   "source": [
    "day_current = day_0\n",
    "p_current = 1\n",
    "weather = [day_current]\n",
    "\n",
    "n_sunny = 0\n",
    "if day_0 == 1: n_sunny = 1 #total number of sunny days, including the initial one\n",
    "\n",
    "sunny_fraction = [n_sunny / 1]\n",
    "\n",
    "#print('current day, prop. day, p current, p prop\\n')\n",
    "for i in range(1, n_days):\n",
    "    day_prop = np.random.randint(0, 2)\n",
    "    \n",
    "    #determining probability of tomorrow's proposed weather based on today's\n",
    "    if (weather[i - 1] == 0): #if today is cloudy\n",
    "        weather.append(np.random.choice(np.array([0, 1]), p=np.array([0.5, 0.5])))     \n",
    "    else: #if today is sunny\n",
    "        weather.append(np.random.choice(np.array([0, 1]), p=np.array([0.1, 0.9])))\n",
    "\n",
    "    if weather[i] == 1: n_sunny = n_sunny + 1\n",
    "    sunny_fraction.append(n_sunny / (i + 1))\n",
    "    \n",
    "plt.plot(range(2000, n_days), sunny_fraction[2000:]) #we cut the first 2000 days as they're not stationary\n",
    "plt.ylim([0, 1])"
   ]
  },
  {
   "cell_type": "code",
   "execution_count": 18,
   "metadata": {},
   "outputs": [
    {
     "data": {
      "image/png": "[encoded data removed]",
      "text/plain": [
       "<Figure size 432x288 with 1 Axes>"
      ]
     },
     "metadata": {
      "needs_background": "light"
     },
     "output_type": "display_data"
    }
   ],
   "source": [
    "plt.hist(sunny_fraction, int(np.sqrt(n_days)), histtype = 'step', density = True)\n",
    "plt.show()"
   ]
  },
  {
   "cell_type": "code",
   "execution_count": 19,
   "metadata": {},
   "outputs": [
    {
     "name": "stdout",
     "output_type": "stream",
     "text": [
      "mean =  0.8390481863351391\n",
      "error on the mean =  0.00024939950887778293\n"
     ]
    }
   ],
   "source": [
    "#print('median = ', np.median(sunny_fraction[2000:]))\n",
    "print('mean = ', np.mean(sunny_fraction))\n",
    "print('error on the mean = ', np.std(sunny_fraction)/np.sqrt(n_days))"
   ]
  }
 ],
 "metadata": {
  "kernelspec": {
   "display_name": "Python 3",
   "language": "python",
   "name": "python3"
  },
  "language_info": {
   "codemirror_mode": {
    "name": "ipython",
    "version": 3
   },
   "file_extension": ".py",
   "mimetype": "text/x-python",
   "name": "python",
   "nbconvert_exporter": "python",
   "pygments_lexer": "ipython3",
   "version": "3.8.5"
  }
 },
 "nbformat": 4,
 "nbformat_minor": 4
}
