{
 "cells": [
  {
   "cell_type": "markdown",
   "metadata": {},
   "source": [
    "Download the SDSS quasara data.\n",
    "- Upsample this distribution in two ways, using both rejection sampling and inverse transform.\n",
    "- Check, at least visually, that the two cloned distribitions are indeed similar to the observed one (for a quantitative check, come back to this point in a few lectures)\n",
    "\n",
    "(Hint: `scipy.stats` is your best friend)\n",
    "\n",
    "- Think about the cosmology of quasars. How do you think they are distributed? Overplot the theorethical distribution to the measured SDSS data \n",
    "\n",
    "(Hint: `astropy.cosmology` is another close friend). The best-fit cosmological model from the Plack data is:\n",
    "\n",
    "### Importing the data and plotting it in a histogram"
   ]
  },
  {
   "cell_type": "code",
   "execution_count": 3,
   "metadata": {},
   "outputs": [],
   "source": [
    "from astroML.datasets import fetch_dr7_quasar\n",
    "\n",
    "# Fetch the quasar data\n",
    "data = fetch_dr7_quasar()\n",
    "\n",
    "# select the first 10000 points\n",
    "data = data[:10000]\n",
    "\n",
    "z = data['redshift']"
   ]
  },
  {
   "cell_type": "code",
   "execution_count": 34,
   "metadata": {
    "scrolled": true
   },
   "outputs": [
    {
     "data": {
      "image/png": "[encoded data removed]",
      "text/plain": [
       "<Figure size 432x288 with 1 Axes>"
      ]
     },
     "metadata": {
      "needs_background": "light"
     },
     "output_type": "display_data"
    }
   ],
   "source": [
    "import numpy as np\n",
    "import random as r\n",
    "import matplotlib.pyplot as plt\n",
    "from scipy import stats, interpolate\n",
    "from scipy.optimize import curve_fit\n",
    "from scipy.special import factorial\n",
    "from scipy.stats import poisson\n",
    "\n",
    "Ndata = 10000\n",
    "\n",
    "z.sort()\n",
    "n, bins, patches = plt.hist(z, int(np.sqrt(Ndata)), histtype = 'step', density = True)\n",
    "\n",
    "#each bin value is one edge:\n",
    "#bins[0] is the left edge of the first bin, bins[1] is the right one. \n",
    "#Finally bins[sqrt(Ndata) + 1] is the right edge of the last bin.\n"
   ]
  },
  {
   "cell_type": "markdown",
   "metadata": {},
   "source": [
    "### Rejection sampling"
   ]
  },
  {
   "cell_type": "code",
   "execution_count": 35,
   "metadata": {},
   "outputs": [],
   "source": [
    "Nsamples = 1000\n",
    "\n",
    "samples = np.empty(2, Nsamples)\n",
    "\n",
    "#finding in which bin we are\n",
    "def find_bin(x, bins):\n",
    "    for i in range(len(bins)):\n",
    "            if (x >= bins[i] and x < bins[i + 1]):  return i\n",
    "\n",
    "while (len(samples) #cerca di mettere Nsamples):\n",
    "    x = r.uniform(bins[0], bins[len(bins)])\n",
    "    y = r.uniform(0.0, 1.0)\n",
    "    in_bin = find_bin (x, bins)\n",
    "    if (y > bins[in_bin]): #aggiungere x e y a Nsamples"
   ]
  }
 ],
 "metadata": {
  "kernelspec": {
   "display_name": "Python 3",
   "language": "python",
   "name": "python3"
  },
  "language_info": {
   "codemirror_mode": {
    "name": "ipython",
    "version": 3
   },
   "file_extension": ".py",
   "mimetype": "text/x-python",
   "name": "python",
   "nbconvert_exporter": "python",
   "pygments_lexer": "ipython3",
   "version": "3.8.5"
  }
 },
 "nbformat": 4,
 "nbformat_minor": 4
}
