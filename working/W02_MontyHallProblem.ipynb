{
 "cells": [
  {
   "cell_type": "markdown",
   "metadata": {},
   "source": [
    "# Simulate the Monty Hall Problem\n",
    "1. Simulate three doors, one car, and two goats;\n",
    "3. Record who wins;\n",
    "4. Repeat it many times;\n",
    "5. Which player do you want to be?\n",
    "6. What would happen if you had 100 doors to choose from and the presenter opens 98 of them?\n",
    "7. And what if you had $N$ doors to choose from and the presenter opens $M \\leq N-2$ of them? \n",
    "8. Study how the probability of winning changes as a function of $M$ and $N$.\n",
    "\n"
   ]
  },
  {
   "cell_type": "code",
   "execution_count": 18,
   "metadata": {
    "scrolled": true
   },
   "outputs": [
    {
     "name": "stdout",
     "output_type": "stream",
     "text": [
      "\u001b[1mMonty Hall Problem with 3 doors: \u001b[0m\n",
      "\n",
      "Switcher win probability:  0.67\n",
      "\n",
      "Conservative win probability:  0.33\n",
      "\n",
      "Newcomer win probability:  0.34 \n",
      "\n"
     ]
    }
   ],
   "source": [
    "import numpy as np\n",
    "import random as r\n",
    "\n",
    "#number of wins for each type of player: switcher, conservative, newcomer\n",
    "wins_s = 0\n",
    "wins_c = 0\n",
    "wins_n = 0\n",
    "\n",
    "#number of games for each player\n",
    "runs_n = 10000\n",
    "\n",
    "#switcher cicle\n",
    "for i in range(runs_n):\n",
    "    #generating the door with the car\n",
    "    car_n = r.randint(0, 2)\n",
    "    \n",
    "    #SWITCHER\n",
    "    #switcher guy's choice\n",
    "    switcher = np.array ([0, 0, 0])\n",
    "    swit_n = r.randint(0, 2)    \n",
    "    #setting the chosen door to value 1\n",
    "    switcher[swit_n] = 1\n",
    "\n",
    "    #door opening for the switcher\n",
    "    open_n = r.randint(0, 2)\n",
    "    #must be different from both the door with the car and the chosen door\n",
    "    while (open_n == car_n or open_n == swit_n): open_n = r.randint(0, 2)\n",
    "\n",
    "    #setting the open door to value 2\n",
    "    switcher[open_n] = 2\n",
    "\n",
    "    #finding the door not opened and not chosen: that door will be the switcher's final choice\n",
    "    for x in switcher:\n",
    "        if (switcher[x] == 0):\n",
    "            swit_n = x\n",
    "            \n",
    "    #if choice = car -> switcher wins\n",
    "    if (swit_n == car_n): wins_s = wins_s + 1     \n",
    "\n",
    "    #CONSERVATIVE\n",
    "    #conservative guy's choice\n",
    "    cons_n = r.randint(0, 2)\n",
    "    \n",
    "    #door opening for the conservative one (even if it does not change the outcome...)\n",
    "    open_n = r.randint(0, 2)\n",
    "    while (open_n == car_n or open_n == cons_n): open_n = r.randint(0, 2)\n",
    "\n",
    "    if (cons_n == car_n): wins_c = wins_c + 1\n",
    "    \n",
    "    #50/50 GUY\n",
    "    #door opening for last guy\n",
    "    open_n = r.randint(0, 2)\n",
    "    while (open_n == car_n): open_n = r.randint(0, 2)\n",
    "   \n",
    "    #third guy will choose one of the two doors closed\n",
    "    new_n = r.randint(0, 2)\n",
    "    while (new_n == new_open_n): new_n = r.randint(0, 2)\n",
    "\n",
    "    if (new_n == car_n): wins_n = wins_n + 1     \n",
    "\n",
    "print ('\\033[1mMonty Hall Problem with 3 doors: \\033[0m')\n",
    "print(\"\\nSwitcher win probability: \", \"{:.2f}\".format(wins_s/runs_n))\n",
    "print(\"\\nConservative win probability: \", \"{:.2f}\".format(wins_c/runs_n))\n",
    "print(\"\\nNewcomer win probability: \", \"{:.2f}\".format(wins_n/runs_n), \"\\n\")\n",
    "\n",
    "\n"
   ]
  },
  {
   "cell_type": "markdown",
   "metadata": {},
   "source": [
    "**We will now repeat the process with 100 doors and opening 98 of them.**\n",
    "\n",
    "We expect the probability of a switcher win to increase as the number of doors increases, while the conservative win probability will be 1/100. This is because the switcher is making an informed choice: out of 99 doors (the ones that he did not initially chose), the one left could have the car, making it more probable then the one he guessed (1/100). Basically, the switcher bets that his initial choice is NOT the one with the car, the presenter will do his job for him.\n",
    "Finally, the \"newcomer\" will still have 50% win probability as nothing has changed for him.\n"
   ]
  },
  {
   "cell_type": "code",
   "execution_count": 4,
   "metadata": {},
   "outputs": [
    {
     "name": "stdout",
     "output_type": "stream",
     "text": [
      "\u001b[1mMonty Hall Problem with 100 doors: \u001b[0m\n",
      "\n",
      "Switcher win probability:  0.99\n",
      "\n",
      "Conservative win probability:  0.01\n",
      "\n",
      "Newcomer win probability:  0.51\n"
     ]
    }
   ],
   "source": [
    "import numpy as np\n",
    "import random as r\n",
    "\n",
    "#number of wins for each type of player: switcher, conservative, newcomer\n",
    "wins_s = 0\n",
    "wins_c = 0\n",
    "wins_n = 0\n",
    "\n",
    "runs_n = 10000\n",
    "\n",
    "for x in range(runs_n):\n",
    "    car_n = r.randint(0, 99)\n",
    "    \n",
    "    #SWITCHER\n",
    "    swit_n = r.randint(0, 99)\n",
    "    \n",
    "    #2 doors must be left open: one of the two has to be the switcher's choice \n",
    "    # and behind one of them there must be the car\n",
    "    open_1 = swit_n\n",
    "    open_2 = car_n\n",
    "    #in this case, if the switcher has initially made the right choice the opened doors will coincide\n",
    "    \n",
    "    #making sure that the doors are different\n",
    "    while (open_1 == open_2): open_2 = r.randint(0, 99)\n",
    "    \n",
    "    #finally switching the choice:\n",
    "    swit_n = open_2\n",
    "    \n",
    "    if (swit_n == car_n): wins_s = wins_s + 1\n",
    "\n",
    "    #CONSERVATIVE\n",
    "    cons_n = r.randint(0, 99)\n",
    "    \n",
    "    #2 doors must be left open:\n",
    "    open_1 = cons_n\n",
    "    open_2 = car_n\n",
    "    \n",
    "    #making sure that the doors are different\n",
    "    while (open_1 == open_2): open_2 = r.randint(0, 99)    \n",
    "    \n",
    "    if (cons_n == car_n): wins_c = wins_c + 1\n",
    "        \n",
    "    #NEWCOMER\n",
    "    #leaving 2 doors open: one random and one with the car\n",
    "    open_1 = car_n\n",
    "    open_2 = r.randint(0, 99)\n",
    "    while (open_1 == open_2): open_2 = r.randint(0, 99)\n",
    "        \n",
    "    new_n = r.randint(0, 1)\n",
    "    #if newcomer gets 0 his choice is equal to open_1, meaning he has found the car and won\n",
    "    if (new_n == 0): wins_n = wins_n + 1\n",
    "    \n",
    "print ('\\033[1mMonty Hall Problem with 100 doors: \\033[0m')\n",
    "print(\"\\nSwitcher win probability: \", \"{:.2f}\".format(wins_s/runs_n))\n",
    "print(\"\\nConservative win probability: \", \"{:.2f}\".format(wins_c/runs_n))\n",
    "print(\"\\nNewcomer win probability: \", \"{:.2f}\".format(wins_n/runs_n))"
   ]
  },
  {
   "cell_type": "markdown",
   "metadata": {},
   "source": [
    "**Finally, we create $N$ doors and open $M \\leq N -2$**"
   ]
  },
  {
   "cell_type": "code",
   "execution_count": 32,
   "metadata": {},
   "outputs": [
    {
     "name": "stdout",
     "output_type": "stream",
     "text": [
      "\u001b[1mMonty Hall Problem with N doors: \u001b[0m\n",
      "\n",
      "Switcher win probability:  0.98\n",
      "\n",
      "Conservative win probability:  0.02\n",
      "\n",
      "Newcomer win probability:  0.51\n"
     ]
    }
   ],
   "source": [
    "import numpy as np\n",
    "import random as r\n",
    "\n",
    "#number of wins for each type of player: switcher, conservative, newcomer\n",
    "wins_s = 0\n",
    "wins_c = 0\n",
    "wins_n = 0\n",
    "\n",
    "runs_n = 10000\n",
    "\n",
    "#number of doors\n",
    "N = 50\n",
    "\n",
    "#number of doors to open\n",
    "M = 48\n",
    "\n",
    "for i in range(runs_n):\n",
    "    doors = np.zeros(N) #returns an array of lenght N and all elements = 0\n",
    "    car_n = r.randint (0, N - 1)\n",
    "    \n",
    "    #SWITCHER\n",
    "    swit_n = r.randint (0, N - 1)\n",
    "    swit_doors =np.zeros(N) #making a new array equal to the first in order to not modify the original one\n",
    "    swit_doors[swit_n] = 1 #setting the switcher's door value to 1\n",
    "    \n",
    "    #doors opening \n",
    "    for i in range(M):\n",
    "        open_door = r.randint(0, N - 1)\n",
    "        #making sure to open a new door:\n",
    "        while (swit_doors[open_door] == 2 or open_door == swit_n or open_door == car_n): open_door = r.randint(0, N - 1)\n",
    "            \n",
    "        swit_doors [open_door] = 2 #open doors will have value = 2\n",
    "    \n",
    "    swit_n = r.randint(0, N - 1)\n",
    "    while(swit_doors[swit_n] == 2 or swit_doors[swit_n] == 1): swit_n = r.randint(0, N - 1)\n",
    "                                \n",
    "    if (swit_n == car_n): wins_s = wins_s + 1\n",
    "        \n",
    "    #CONSERVATIVE\n",
    "    cons_n = r.randint (0, N - 1)\n",
    "    if (cons_n == car_n): wins_c = wins_c + 1\n",
    "    \n",
    "    #NEWCOMER\n",
    "    #using the opened doors from the switcher cicle \n",
    "    new_n = r.randint(0, N - 1)\n",
    "    while(swit_doors[new_n] == 2): new_n = r.randint(0, N - 1)\n",
    "                                \n",
    "    if (new_n == car_n): wins_n = wins_n + 1\n",
    "\n",
    "print ('\\033[1mMonty Hall Problem with N doors: \\033[0m')\n",
    "print(\"\\nSwitcher win probability: \", \"{:.2f}\".format(wins_s/runs_n))\n",
    "print(\"\\nConservative win probability: \", \"{:.2f}\".format(wins_c/runs_n))\n",
    "print(\"\\nNewcomer win probability: \", \"{:.2f}\".format(wins_n/runs_n))"
   ]
  },
  {
   "cell_type": "markdown",
   "metadata": {},
   "source": [
    "We can notice that, as we thought, by increasing $N$ and keeping $M = N - 2$, the win probability goes up for the switcher, down for the conservative and stays the same for the newcomer. Instead, if we reduce $M$, the probability diminishes both for the switcher and the newcomer, but stays the same for the conservative."
   ]
  }
 ],
 "metadata": {
  "kernelspec": {
   "display_name": "Python 3",
   "language": "python",
   "name": "python3"
  },
  "language_info": {
   "codemirror_mode": {
    "name": "ipython",
    "version": 3
   },
   "file_extension": ".py",
   "mimetype": "text/x-python",
   "name": "python",
   "nbconvert_exporter": "python",
   "pygments_lexer": "ipython3",
   "version": "3.8.5"
  }
 },
 "nbformat": 4,
 "nbformat_minor": 4
}
