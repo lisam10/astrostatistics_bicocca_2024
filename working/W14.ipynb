{
 "cells": [
  {
   "cell_type": "markdown",
   "metadata": {},
   "source": [
    "Let's look at the latest database of Gamma Ray Bursts.\n",
    "\n",
    " - The database can be downloaded at https://user-web.icecube.wisc.edu/~grbweb_public/Summary_table.txt\n",
    " - You can find the physical meaning of each variable at https://user-web.icecube.wisc.edu/~grbweb_public/Variables.html \n",
    "\n",
    "\n",
    "This edition of \"get your hands dirty\" is very open ended (we're getting closer and closer to real research...). You have a cool dataset, explore it! Play with the data, apply some of the tecniques we have seen in classes so far, etc. **Be creative! You're discovering**\n",
    "\n",
    "\n",
    "Some relevant physical questions you might want to tackle include:\n",
    "\n",
    "- Does the distribution contain different sub-populations? How many?\n",
    "- What's the threshold between the classes?\n",
    "- If you try two clustering methods, do you get more or less the same?\n",
    "- How do methods respond to outliers? i.e leave some data out and refit\n",
    "- What variable(s) shows the multi-modality more evidently?\n",
    "- Are all GRBs equally likely to be observed? \n",
    "\n"
   ]
  },
  {
   "cell_type": "code",
   "execution_count": 3,
   "metadata": {},
   "outputs": [],
   "source": [
    "import numpy as np\n",
    "import requests\n",
    "\n",
    "# Download file\n",
    "r = requests.get('https://user-web.icecube.wisc.edu/~grbweb_public/Summary_table.txt')\n",
    "with open(\"Summary_table.txt\", 'wb') as f:\n",
    "    f.write(r.content)\n",
    "\n",
    "# Read content\n",
    "data = np.loadtxt(\"Summary_table.txt\", dtype='str',unpack='True')\n",
    "\n",
    "# Read headers\n",
    "with open(\"Summary_table.txt\",'r') as f:\n",
    "    names= np.array([n.strip().replace(\" \",\"_\") for n in f.readlines()[1].replace(\"#\",\"\").replace(\"\\n\",\"\").lstrip().split('    ') if n.strip()!=''])\n"
   ]
  },
  {
   "cell_type": "code",
   "execution_count": 4,
   "metadata": {},
   "outputs": [
    {
     "data": {
      "text/plain": [
       "array(['GRB_name', 'GRB_name_Fermi', 'T0', 'ra', 'decl', 'pos_error',\n",
       "       'T90', 'T90_error', 'T90_start', 'fluence', 'fluence_error',\n",
       "       'redshift', \"'T100'\", 'GBM_located', 'mjd_(T0)'], dtype='<U14')"
      ]
     },
     "execution_count": 4,
     "metadata": {},
     "output_type": "execute_result"
    }
   ],
   "source": [
    "names"
   ]
  },
  {
   "cell_type": "code",
   "execution_count": 24,
   "metadata": {},
   "outputs": [
    {
     "name": "stdout",
     "output_type": "stream",
     "text": [
      "[-9.9900e+02  5.8068e-06  3.3510e-06 ...  2.4858e-08  1.6510e-07\n",
      "  2.6055e-06]\n"
     ]
    }
   ],
   "source": [
    "T90=np.array(data[6],dtype=float)\n",
    "#print(T90)\n",
    "\n",
    "fluence = np.array(data[9], dtype = float)\n",
    "print(fluence)"
   ]
  },
  {
   "cell_type": "markdown",
   "metadata": {},
   "source": [
    "Let's first draw an histogram of the T90 samples."
   ]
  },
  {
   "cell_type": "code",
   "execution_count": 7,
   "metadata": {},
   "outputs": [],
   "source": [
    "import matplotlib.pyplot as plt"
   ]
  },
  {
   "cell_type": "code",
   "execution_count": 15,
   "metadata": {},
   "outputs": [
    {
     "data": {
      "image/png": "[encoded data removed]",
      "text/plain": [
       "<Figure size 432x288 with 1 Axes>"
      ]
     },
     "metadata": {
      "needs_background": "light"
     },
     "output_type": "display_data"
    }
   ],
   "source": [
    "plt.hist(T90, int(np.sqrt(len(T90))))\n",
    "plt.show()"
   ]
  },
  {
   "cell_type": "markdown",
   "metadata": {},
   "source": [
    "There are some points at -1000: these are the outliers! Let's first remove them."
   ]
  },
  {
   "cell_type": "code",
   "execution_count": 26,
   "metadata": {},
   "outputs": [],
   "source": [
    "T90_index = []\n",
    "\n",
    "for i in range(len(T90)):\n",
    "    if T90[i] == -999: T90_index.append(i)\n",
    "\n",
    "T90_best = np.delete(T90, T90_index)"
   ]
  },
  {
   "cell_type": "code",
   "execution_count": 43,
   "metadata": {},
   "outputs": [
    {
     "data": {
      "image/png": "[encoded data removed]",
      "text/plain": [
       "<Figure size 432x288 with 1 Axes>"
      ]
     },
     "metadata": {
      "needs_background": "light"
     },
     "output_type": "display_data"
    }
   ],
   "source": [
    "plt.hist(T90_best, np.logspace(-5, 5))\n",
    "plt.semilogx()\n",
    "plt.show()"
   ]
  },
  {
   "cell_type": "markdown",
   "metadata": {},
   "source": [
    "What about the fluence?"
   ]
  },
  {
   "cell_type": "code",
   "execution_count": 28,
   "metadata": {},
   "outputs": [],
   "source": [
    "fluence_index = []\n",
    "\n",
    "for i in range(len(fluence)):\n",
    "    if fluence[i] == -999: fluence_index.append(i)\n",
    "\n",
    "fluence_best = np.delete(T90, fluence_index)"
   ]
  },
  {
   "cell_type": "code",
   "execution_count": 73,
   "metadata": {},
   "outputs": [
    {
     "data": {
      "image/png": "[encoded data removed]",
      "text/plain": [
       "<Figure size 432x288 with 1 Axes>"
      ]
     },
     "metadata": {
      "needs_background": "light"
     },
     "output_type": "display_data"
    }
   ],
   "source": [
    "plt.hist(fluence_best, np.logspace(-5, 5))\n",
    "plt.semilogx()\n",
    "plt.show()"
   ]
  },
  {
   "cell_type": "markdown",
   "metadata": {},
   "source": [
    "Let's try to find two clusters in the T90 distribution."
   ]
  },
  {
   "cell_type": "code",
   "execution_count": 45,
   "metadata": {},
   "outputs": [],
   "source": [
    "from sklearn.cluster import KMeans"
   ]
  },
  {
   "cell_type": "code",
   "execution_count": 83,
   "metadata": {},
   "outputs": [
    {
     "data": {
      "text/plain": [
       "KMeans(n_clusters=2)"
      ]
     },
     "execution_count": 83,
     "metadata": {},
     "output_type": "execute_result"
    }
   ],
   "source": [
    "kmeans = KMeans(n_clusters = 2)\n",
    "X = np.log(T90_best).reshape(-1, 1)\n",
    "kmeans.fit(X)"
   ]
  },
  {
   "cell_type": "code",
   "execution_count": 84,
   "metadata": {},
   "outputs": [],
   "source": [
    "y = kmeans.predict(X)"
   ]
  },
  {
   "cell_type": "code",
   "execution_count": 85,
   "metadata": {},
   "outputs": [
    {
     "data": {
      "text/plain": [
       "array([-0.09087793])"
      ]
     },
     "execution_count": 85,
     "metadata": {},
     "output_type": "execute_result"
    }
   ],
   "source": [
    "kmeans.cluster_centers_[0]"
   ]
  },
  {
   "cell_type": "code",
   "execution_count": 87,
   "metadata": {},
   "outputs": [
    {
     "data": {
      "image/png": "[encoded data removed]",
      "text/plain": [
       "<Figure size 432x288 with 1 Axes>"
      ]
     },
     "metadata": {
      "needs_background": "light"
     },
     "output_type": "display_data"
    }
   ],
   "source": [
    "plt.vlines(np.exp(kmeans.cluster_centers_[:]), 0, 1000, color = 'black')\n",
    "plt.hist(T90_best, np.logspace(-5, 5))\n",
    "plt.semilogx()\n",
    "plt.show()"
   ]
  },
  {
   "cell_type": "markdown",
   "metadata": {},
   "source": [
    "dividiamo i due cluster in due histogrammi separati e plottiamoli."
   ]
  },
  {
   "cell_type": "code",
   "execution_count": 90,
   "metadata": {},
   "outputs": [],
   "source": [
    "c1 =[]\n",
    "c2 =[]\n",
    "for i in range(len(T90_best)):\n",
    "    if (y[i] == 0): c1.append(T90_best[i])\n",
    "    else: c2.append(T90_best[i])\n",
    "        \n",
    "c1 = np.array(c1)\n",
    "c2 = np.array(c2)"
   ]
  },
  {
   "cell_type": "code",
   "execution_count": 101,
   "metadata": {},
   "outputs": [
    {
     "data": {
      "image/png": "[encoded data removed]",
      "text/plain": [
       "<Figure size 432x288 with 1 Axes>"
      ]
     },
     "metadata": {
      "needs_background": "light"
     },
     "output_type": "display_data"
    }
   ],
   "source": [
    "plt.hist(c1, np.logspace(-3, 4), alpha = 0.5)\n",
    "plt.hist(c2, np.logspace(-3, 4), alpha = 0.5)\n",
    "plt.semilogx()\n",
    "plt.show()"
   ]
  },
  {
   "cell_type": "code",
   "execution_count": null,
   "metadata": {},
   "outputs": [],
   "source": []
  }
 ],
 "metadata": {
  "kernelspec": {
   "display_name": "Python 3",
   "language": "python",
   "name": "python3"
  },
  "language_info": {
   "codemirror_mode": {
    "name": "ipython",
    "version": 3
   },
   "file_extension": ".py",
   "mimetype": "text/x-python",
   "name": "python",
   "nbconvert_exporter": "python",
   "pygments_lexer": "ipython3",
   "version": "3.8.5"
  }
 },
 "nbformat": 4,
 "nbformat_minor": 4
}
